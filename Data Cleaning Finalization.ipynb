{
  "nbformat": 4,
  "nbformat_minor": 0,
  "metadata": {
    "colab": {
      "provenance": []
    },
    "kernelspec": {
      "name": "python3",
      "display_name": "Python 3"
    },
    "language_info": {
      "name": "python"
    }
  },
  "cells": [
    {
      "cell_type": "code",
      "execution_count": null,
      "metadata": {
        "id": "NZTxWGJJKEcP"
      },
      "outputs": [],
      "source": [
        "import glob\n",
        "import pandas as pd\n",
        "import numpy as np\n",
        "import seaborn as sns\n",
        "import matplotlib.pyplot as plt"
      ]
    },
    {
      "cell_type": "code",
      "source": [
        "from google.colab import drive\n",
        "drive.mount('/content/drive')"
      ],
      "metadata": {
        "colab": {
          "base_uri": "https://localhost:8080/"
        },
        "id": "h0swVfR3KHec",
        "outputId": "c2d60132-65be-49d6-e53f-2ac71c3b8bb5"
      },
      "execution_count": null,
      "outputs": [
        {
          "output_type": "stream",
          "name": "stdout",
          "text": [
            "Drive already mounted at /content/drive; to attempt to forcibly remount, call drive.mount(\"/content/drive\", force_remount=True).\n"
          ]
        }
      ]
    },
    {
      "cell_type": "markdown",
      "source": [
        "#### Input and concatenate the data"
      ],
      "metadata": {
        "id": "RzVUvz3SDvt0"
      }
    },
    {
      "cell_type": "code",
      "source": [
        "all_df = []\n",
        "for path in glob.glob('/content/drive/MyDrive/Data testing with IDXExchange/CRMLSSold202406-202501/*.csv'):\n",
        "    df = pd.read_csv(path)\n",
        "    all_df.append(df)\n",
        "\n",
        "data = pd.concat(all_df, axis = 0, ignore_index=True)\n",
        "\n",
        "pd.set_option('display.max_columns', None)"
      ],
      "metadata": {
        "id": "xAlxiUSzKHhO"
      },
      "execution_count": null,
      "outputs": []
    },
    {
      "cell_type": "markdown",
      "source": [
        "#### Filtering data for Residential and Single Family Residence"
      ],
      "metadata": {
        "id": "_0QkQ9p_Dz6t"
      }
    },
    {
      "cell_type": "code",
      "source": [
        "# filter for property type and subtype\n",
        "mask = (data['PropertyType'] == 'Residential') & (data['PropertySubType'] == 'SingleFamilyResidence')\n",
        "data = data[mask].drop(['PropertyType','PropertySubType','OriginalListPrice', 'ListPrice'], axis = 1)\n",
        "data.reset_index(drop = True, inplace = True)"
      ],
      "metadata": {
        "id": "yoK3ygEQKHkL"
      },
      "execution_count": null,
      "outputs": []
    },
    {
      "cell_type": "markdown",
      "source": [
        "#### Feature Engineering to extract month from Contract Date"
      ],
      "metadata": {
        "id": "ST5h-bhlD8J9"
      }
    },
    {
      "cell_type": "code",
      "source": [
        "data['ListingContractDate_month'] = pd.to_datetime(data['ListingContractDate']).dt.month"
      ],
      "metadata": {
        "id": "v7DgtM6kKHnR"
      },
      "execution_count": null,
      "outputs": []
    },
    {
      "cell_type": "code",
      "source": [
        "columns_to_keep = [\n",
        "    \"AttachedGarageYN\", \"BathroomsTotalInteger\", \"BedroomsTotal\", \"City\",\n",
        "    \"ClosePrice\", \"CountyOrParish\", \"DaysOnMarket\", \"FireplaceYN\",\n",
        "    \"GarageSpaces\", \"Latitude\", \"Levels\", \"ListingContractDate\",\n",
        "    \"LivingArea\", \"Longitude\", \"LotSizeSquareFeet\", \"NewConstructionYN\",\n",
        "    \"ParkingTotal\", \"PoolPrivateYN\", \"PostalCode\", \"PurchaseContractDate\",\n",
        "    \"StateOrProvince\", \"Stories\", \"ViewYN\", \"YearBuilt\", 'ListingContractDate_month'\n",
        "]"
      ],
      "metadata": {
        "id": "STC1iu2RKHqQ"
      },
      "execution_count": null,
      "outputs": []
    },
    {
      "cell_type": "code",
      "source": [
        "data_filtered = data[columns_to_keep]"
      ],
      "metadata": {
        "id": "7Uk7O_9-KHtd"
      },
      "execution_count": null,
      "outputs": []
    },
    {
      "cell_type": "markdown",
      "source": [
        "### Data Cleaning Steps\n",
        "\n",
        "**Boolean Columns:**  \n",
        "Set NA values to `False` for Y/N features (garage, pool, fireplace, etc.).\n",
        "\n",
        "**Location Filtering:**  \n",
        "Kept only California properties (`StateOrProvince == 'CA'`).\n",
        "\n",
        "**Smart Imputation:**  \n",
        "Filled missing values by city groups:\n",
        "- `Stories` & `GarageSpaces`: Mode (most common value)\n",
        "- `LotSizeSquareFeet`: Median\n",
        "\n",
        "**Column Removal:**  \n",
        "Dropped:\n",
        "- `Levels`: Too many nulls, low variance\n",
        "- Date columns: Extracted features already captured key info"
      ],
      "metadata": {
        "id": "6XEYsDKqEG06"
      }
    },
    {
      "cell_type": "code",
      "source": [
        "# Set NA values to False for boolean columns\n",
        "data_filtered[\"AttachedGarageYN\"].fillna(False, inplace=True)\n",
        "data_filtered[\"PoolPrivateYN\"].fillna(False, inplace=True)\n",
        "data_filtered[\"FireplaceYN\"].fillna(False, inplace=True)\n",
        "data_filtered[\"NewConstructionYN\"].fillna(False, inplace=True)\n",
        "data_filtered[\"ViewYN\"].fillna(False, inplace=True)\n",
        "\n",
        "# Data only from California\n",
        "data_filtered = data_filtered[data_filtered['StateOrProvince'] == 'CA']\n",
        "\n",
        "# Fill NA based on grouping City\n",
        "data_filtered['Stories'] = data_filtered.groupby('City')['Stories'].transform(lambda x: x.fillna(x.mode()) if x.notna().any() else x)\n",
        "data_filtered['LotSizeSquareFeet'] = data_filtered.groupby('City')['LotSizeSquareFeet'].transform(lambda x: x.fillna(x.median()) if x.notna().any() else x)\n",
        "data_filtered['GarageSpaces'] = data_filtered.groupby('City')['GarageSpaces'].transform(lambda x: x.fillna(x.mode()) if x.notna().any() else x)\n",
        "\n",
        "# Most levels are either \"one\" or \"two\" and it has too many null values so I decide to drop this column\n",
        "data_filtered.drop(columns=['Levels'], inplace=True)\n",
        "\n",
        "# Drop the original date columns since we've extracted the required information\n",
        "data_filtered.drop(columns=[\"ListingContractDate\", \"PurchaseContractDate\", \"DaysOnMarket\"], inplace=True)"
      ],
      "metadata": {
        "colab": {
          "base_uri": "https://localhost:8080/"
        },
        "id": "HgXZP4hzKHvx",
        "outputId": "ca07f02b-9efa-494c-df71-77c2b2678705"
      },
      "execution_count": null,
      "outputs": [
        {
          "output_type": "stream",
          "name": "stderr",
          "text": [
            "<ipython-input-8-db6494c5642e>:2: FutureWarning: A value is trying to be set on a copy of a DataFrame or Series through chained assignment using an inplace method.\n",
            "The behavior will change in pandas 3.0. This inplace method will never work because the intermediate object on which we are setting values always behaves as a copy.\n",
            "\n",
            "For example, when doing 'df[col].method(value, inplace=True)', try using 'df.method({col: value}, inplace=True)' or df[col] = df[col].method(value) instead, to perform the operation inplace on the original object.\n",
            "\n",
            "\n",
            "  data_filtered[\"AttachedGarageYN\"].fillna(False, inplace=True)\n",
            "<ipython-input-8-db6494c5642e>:2: FutureWarning: Downcasting object dtype arrays on .fillna, .ffill, .bfill is deprecated and will change in a future version. Call result.infer_objects(copy=False) instead. To opt-in to the future behavior, set `pd.set_option('future.no_silent_downcasting', True)`\n",
            "  data_filtered[\"AttachedGarageYN\"].fillna(False, inplace=True)\n",
            "<ipython-input-8-db6494c5642e>:2: SettingWithCopyWarning: \n",
            "A value is trying to be set on a copy of a slice from a DataFrame\n",
            "\n",
            "See the caveats in the documentation: https://pandas.pydata.org/pandas-docs/stable/user_guide/indexing.html#returning-a-view-versus-a-copy\n",
            "  data_filtered[\"AttachedGarageYN\"].fillna(False, inplace=True)\n",
            "<ipython-input-8-db6494c5642e>:3: FutureWarning: A value is trying to be set on a copy of a DataFrame or Series through chained assignment using an inplace method.\n",
            "The behavior will change in pandas 3.0. This inplace method will never work because the intermediate object on which we are setting values always behaves as a copy.\n",
            "\n",
            "For example, when doing 'df[col].method(value, inplace=True)', try using 'df.method({col: value}, inplace=True)' or df[col] = df[col].method(value) instead, to perform the operation inplace on the original object.\n",
            "\n",
            "\n",
            "  data_filtered[\"PoolPrivateYN\"].fillna(False, inplace=True)\n",
            "<ipython-input-8-db6494c5642e>:3: FutureWarning: Downcasting object dtype arrays on .fillna, .ffill, .bfill is deprecated and will change in a future version. Call result.infer_objects(copy=False) instead. To opt-in to the future behavior, set `pd.set_option('future.no_silent_downcasting', True)`\n",
            "  data_filtered[\"PoolPrivateYN\"].fillna(False, inplace=True)\n",
            "<ipython-input-8-db6494c5642e>:3: SettingWithCopyWarning: \n",
            "A value is trying to be set on a copy of a slice from a DataFrame\n",
            "\n",
            "See the caveats in the documentation: https://pandas.pydata.org/pandas-docs/stable/user_guide/indexing.html#returning-a-view-versus-a-copy\n",
            "  data_filtered[\"PoolPrivateYN\"].fillna(False, inplace=True)\n",
            "<ipython-input-8-db6494c5642e>:4: FutureWarning: A value is trying to be set on a copy of a DataFrame or Series through chained assignment using an inplace method.\n",
            "The behavior will change in pandas 3.0. This inplace method will never work because the intermediate object on which we are setting values always behaves as a copy.\n",
            "\n",
            "For example, when doing 'df[col].method(value, inplace=True)', try using 'df.method({col: value}, inplace=True)' or df[col] = df[col].method(value) instead, to perform the operation inplace on the original object.\n",
            "\n",
            "\n",
            "  data_filtered[\"FireplaceYN\"].fillna(False, inplace=True)\n",
            "<ipython-input-8-db6494c5642e>:4: FutureWarning: Downcasting object dtype arrays on .fillna, .ffill, .bfill is deprecated and will change in a future version. Call result.infer_objects(copy=False) instead. To opt-in to the future behavior, set `pd.set_option('future.no_silent_downcasting', True)`\n",
            "  data_filtered[\"FireplaceYN\"].fillna(False, inplace=True)\n",
            "<ipython-input-8-db6494c5642e>:4: SettingWithCopyWarning: \n",
            "A value is trying to be set on a copy of a slice from a DataFrame\n",
            "\n",
            "See the caveats in the documentation: https://pandas.pydata.org/pandas-docs/stable/user_guide/indexing.html#returning-a-view-versus-a-copy\n",
            "  data_filtered[\"FireplaceYN\"].fillna(False, inplace=True)\n",
            "<ipython-input-8-db6494c5642e>:5: FutureWarning: A value is trying to be set on a copy of a DataFrame or Series through chained assignment using an inplace method.\n",
            "The behavior will change in pandas 3.0. This inplace method will never work because the intermediate object on which we are setting values always behaves as a copy.\n",
            "\n",
            "For example, when doing 'df[col].method(value, inplace=True)', try using 'df.method({col: value}, inplace=True)' or df[col] = df[col].method(value) instead, to perform the operation inplace on the original object.\n",
            "\n",
            "\n",
            "  data_filtered[\"NewConstructionYN\"].fillna(False, inplace=True)\n",
            "<ipython-input-8-db6494c5642e>:5: FutureWarning: Downcasting object dtype arrays on .fillna, .ffill, .bfill is deprecated and will change in a future version. Call result.infer_objects(copy=False) instead. To opt-in to the future behavior, set `pd.set_option('future.no_silent_downcasting', True)`\n",
            "  data_filtered[\"NewConstructionYN\"].fillna(False, inplace=True)\n",
            "<ipython-input-8-db6494c5642e>:5: SettingWithCopyWarning: \n",
            "A value is trying to be set on a copy of a slice from a DataFrame\n",
            "\n",
            "See the caveats in the documentation: https://pandas.pydata.org/pandas-docs/stable/user_guide/indexing.html#returning-a-view-versus-a-copy\n",
            "  data_filtered[\"NewConstructionYN\"].fillna(False, inplace=True)\n",
            "<ipython-input-8-db6494c5642e>:6: FutureWarning: A value is trying to be set on a copy of a DataFrame or Series through chained assignment using an inplace method.\n",
            "The behavior will change in pandas 3.0. This inplace method will never work because the intermediate object on which we are setting values always behaves as a copy.\n",
            "\n",
            "For example, when doing 'df[col].method(value, inplace=True)', try using 'df.method({col: value}, inplace=True)' or df[col] = df[col].method(value) instead, to perform the operation inplace on the original object.\n",
            "\n",
            "\n",
            "  data_filtered[\"ViewYN\"].fillna(False, inplace=True)\n",
            "<ipython-input-8-db6494c5642e>:6: FutureWarning: Downcasting object dtype arrays on .fillna, .ffill, .bfill is deprecated and will change in a future version. Call result.infer_objects(copy=False) instead. To opt-in to the future behavior, set `pd.set_option('future.no_silent_downcasting', True)`\n",
            "  data_filtered[\"ViewYN\"].fillna(False, inplace=True)\n",
            "<ipython-input-8-db6494c5642e>:6: SettingWithCopyWarning: \n",
            "A value is trying to be set on a copy of a slice from a DataFrame\n",
            "\n",
            "See the caveats in the documentation: https://pandas.pydata.org/pandas-docs/stable/user_guide/indexing.html#returning-a-view-versus-a-copy\n",
            "  data_filtered[\"ViewYN\"].fillna(False, inplace=True)\n"
          ]
        }
      ]
    },
    {
      "cell_type": "markdown",
      "source": [
        "### Missing Stories Analysis\n",
        "\n",
        "**Process:**\n",
        "1. Grouped by `City` and checked if all `Stories` values were NaN\n",
        "2. Identified cities with completely missing `Stories` data\n",
        "3. Sorted and displayed affected cities\n",
        "\n",
        "**Purpose:**  \n",
        "Identify locations needing alternative imputation methods since mode-based filling won't work when all values are missing in a city group."
      ],
      "metadata": {
        "id": "J61eElBmEmv1"
      }
    },
    {
      "cell_type": "code",
      "source": [
        "# Group by 'PostalCode' and check if all 'Stories' are NaN within each group\n",
        "missing_stories_by_postalcode = data_filtered.groupby('City')['Stories'].apply(lambda x: x.isna().all())\n",
        "\n",
        "# Filter out the PostalCode groups where all Stories are NaN\n",
        "postalcodes_with_missing_stories = missing_stories_by_postalcode[missing_stories_by_postalcode].index\n",
        "\n",
        "# Display the PostalCodes where all 'Stories' are NaN\n",
        "postalcodes_with_missing_stories.sort_values()"
      ],
      "metadata": {
        "colab": {
          "base_uri": "https://localhost:8080/"
        },
        "id": "h6Q3uoRXKHyw",
        "outputId": "cd65c208-17e0-4822-916f-1b88b8be58aa"
      },
      "execution_count": null,
      "outputs": [
        {
          "output_type": "execute_result",
          "data": {
            "text/plain": [
              "Index(['Aromas', 'Atherton', 'Avery', 'Ben Lomond', 'Benton', 'Berry Creek',\n",
              "       'Big Sur', 'Boulder Creek', 'Brisbane', 'Brookdale', 'Burlingame',\n",
              "       'Calistoga', 'Capitola', 'Carmel', 'Carmel Highlands', 'Castroville',\n",
              "       'Chualar', 'Cloverdale', 'Colma', 'Columbia', 'Corralitos', 'Davenport',\n",
              "       'Del Rey Oaks', 'El Granada', 'Elverta', 'Farmington', 'Foresthill',\n",
              "       'Freedom', 'Gonzales', 'La Honda', 'La Selva Beach',\n",
              "       'Lake Almanor Peninsula', 'Larkspur', 'Loma Mar', 'Long Barn', 'Loomis',\n",
              "       'Los Altos Hills', 'Montara', 'Monte Sereno', 'Moss Beach',\n",
              "       'Moss Landing', 'Mount Hermon', 'North Park (San Diego)', 'Novato',\n",
              "       'O'Neals', 'Paicines', 'Pescadero', 'Pine Grove', 'Playa Vista',\n",
              "       'Portola Valley', 'Prunedale', 'Royal Oaks', 'San Juan Bautista',\n",
              "       'Sand City', 'Scotts Valley', 'Shingle Springs', 'Soquel', 'Spreckels',\n",
              "       'Stanford', 'Surfside', 'Tahoe City', 'Tres Pinos', 'Whitmore'],\n",
              "      dtype='object', name='City')"
            ]
          },
          "metadata": {},
          "execution_count": 9
        }
      ]
    },
    {
      "cell_type": "markdown",
      "source": [
        "### Group-based Imputation\n",
        "\n",
        "**Strategy:**  \n",
        "Filled missing values using county-level patterns:\n",
        "- `Stories` & `GarageSpaces`: Mode (most common value)\n",
        "- `LotSizeSquareFeet`: Median value\n",
        "\n",
        "**Fallback:**  \n",
        "Used median when mode unavailable (empty group cases)\n",
        "\n",
        "**Rationale:**  \n",
        "County-level grouping provides better geographical relevance than city-level for these housing features."
      ],
      "metadata": {
        "id": "ZrvbK_hyE6Cn"
      }
    },
    {
      "cell_type": "code",
      "source": [
        "# Fill missing values in 'Stories' with the mode grouped by 'CountyOrParish'\n",
        "data_filtered[\"Stories\"] = data_filtered.groupby(\"CountyOrParish\")[\"Stories\"].transform(lambda x: x.fillna(x.mode()[0] if not x.mode().empty else x.median()))\n",
        "\n",
        "# Fill missing values in 'LotSizeSquareFeet' with the median grouped by 'CountyOrParish'\n",
        "data_filtered[\"LotSizeSquareFeet\"] = data_filtered.groupby(\"CountyOrParish\")[\"LotSizeSquareFeet\"].transform(lambda x: x.fillna(x.median()))\n",
        "\n",
        "# Fill missing values in 'GarageSpaces' with the mode grouped by 'CountyOrParish'\n",
        "data_filtered[\"GarageSpaces\"] = data_filtered.groupby(\"CountyOrParish\")[\"GarageSpaces\"].transform(lambda x: x.fillna(x.mode()[0] if not x.mode().empty else x.median()))"
      ],
      "metadata": {
        "id": "NykuVulKKH2H"
      },
      "execution_count": null,
      "outputs": []
    },
    {
      "cell_type": "markdown",
      "source": [
        "Showing how many percentage loss so far compared to the original dataset."
      ],
      "metadata": {
        "id": "_XpWJiDhEwPG"
      }
    },
    {
      "cell_type": "code",
      "source": [
        "print('Percentage loss: ', (1 - (data_filtered.shape[0]) / 91072) * 100)"
      ],
      "metadata": {
        "colab": {
          "base_uri": "https://localhost:8080/"
        },
        "id": "rx08u3TGKH5Y",
        "outputId": "d41db595-43e5-4bad-b617-bb492d396eef"
      },
      "execution_count": null,
      "outputs": [
        {
          "output_type": "stream",
          "name": "stdout",
          "text": [
            "Percentage loss:  0.0076862262824994865\n"
          ]
        }
      ]
    },
    {
      "cell_type": "markdown",
      "source": [
        "### Outlier Detection & Removal\n",
        "\n",
        "**Method:**  \n",
        "IQR technique (**Q1 - 1.5 IQR** to **Q3 + 1.5 IQR** range) applied to:\n",
        "- `ClosePrice`\n",
        "- `BedroomsTotal`\n",
        "- `LivingArea`\n",
        "- `BathroomsTotalInteger`\n",
        "\n",
        "**Output:**  \n",
        "Prints percentage of data lost per feature\n",
        "\n",
        "**Additional Filter:**  \n",
        "Kept only properties with non-negative `ParkingTotal`\n",
        "\n",
        "**Commented Options:**  \n",
        "Shows other potential features considered for outlier removal"
      ],
      "metadata": {
        "id": "dzSaSUHuFEGJ"
      }
    },
    {
      "cell_type": "code",
      "source": [
        "def quantile(df, column_name):\n",
        "    Q1 = df[column_name].quantile(0.25)\n",
        "    Q3 = df[column_name].quantile(0.75)\n",
        "    IQR = Q3 - Q1\n",
        "\n",
        "    outliers = df[(df[column_name] < Q1 - 1.5 * IQR) | (df[column_name] > Q3 + 1.5 * IQR)]\n",
        "    print(\"Percentage loss from outliers: \", (len(outliers) / len(df)) * 100, \"%\")\n",
        "\n",
        "    df_filtered = df[(df[column_name] >= Q1 - 1.5 * IQR) & (df[column_name] <= Q3 + 1.5 * IQR)]\n",
        "\n",
        "    return df_filtered"
      ],
      "metadata": {
        "id": "DuIqWu51KH8Z"
      },
      "execution_count": null,
      "outputs": []
    },
    {
      "cell_type": "code",
      "source": [
        "data_filtered = quantile(data_filtered, 'ClosePrice')\n",
        "# data_filtered = quantile(data_filtered, 'ClosePrice')\n",
        "data_filtered = quantile(data_filtered, 'BedroomsTotal')\n",
        "data_filtered = quantile(data_filtered, 'LivingArea')\n",
        "data_filtered = quantile(data_filtered, 'BathroomsTotalInteger')\n",
        "# data_filtered = quantile(data_filtered, 'LotSizeSquareFeet')\n",
        "# data_filtered = quantile(data_filtered, 'GarageSpaces')\n",
        "# data_filtered = quantile(data_filtered, 'ParkingTotal')\n",
        "\n",
        "data_filtered = data_filtered[data_filtered['ParkingTotal'] >= 0]"
      ],
      "metadata": {
        "colab": {
          "base_uri": "https://localhost:8080/"
        },
        "id": "bPHnHZPgKH_J",
        "outputId": "df1f1b6f-3244-4c16-ddd8-7513f7398f65"
      },
      "execution_count": null,
      "outputs": [
        {
          "output_type": "stream",
          "name": "stdout",
          "text": [
            "Percentage loss from outliers:  7.313457420523801 %\n",
            "Percentage loss from outliers:  2.1823868819828682 %\n",
            "Percentage loss from outliers:  2.5774881602693767 %\n",
            "Percentage loss from outliers:  0.8866835795652389 %\n"
          ]
        }
      ]
    },
    {
      "cell_type": "markdown",
      "source": [
        "### Feature Engineering: Building Age\n",
        "\n",
        "**Calculation:**  \n",
        "`Age = 2025 - YearBuilt`  \n",
        "(Current year minus construction year)\n",
        "\n",
        "**Cleanup:**  \n",
        "Dropped original `YearBuilt` column after age calculation"
      ],
      "metadata": {
        "id": "f80GOnC4FO6Z"
      }
    },
    {
      "cell_type": "code",
      "source": [
        "# Calculating the 'Age' of the building\n",
        "data_filtered['Age'] = 2025 - data_filtered['YearBuilt']\n",
        "data_filtered.drop(columns=['YearBuilt'], inplace=True)"
      ],
      "metadata": {
        "id": "kOsbaAsmKICT"
      },
      "execution_count": null,
      "outputs": []
    },
    {
      "cell_type": "code",
      "source": [
        "print('Percentage loss: ', (1 - (data_filtered.shape[0]) / 91072) * 100)"
      ],
      "metadata": {
        "colab": {
          "base_uri": "https://localhost:8080/"
        },
        "id": "CBIZPfZAKIFi",
        "outputId": "d0f0735f-1bea-4e43-c058-a9a9c1ab6bbc"
      },
      "execution_count": null,
      "outputs": [
        {
          "output_type": "stream",
          "name": "stdout",
          "text": [
            "Percentage loss:  12.527450808151796\n"
          ]
        }
      ]
    },
    {
      "cell_type": "markdown",
      "source": [
        "We lost 12.52745 % after filtering data"
      ],
      "metadata": {
        "id": "diNkf_bhFTEZ"
      }
    },
    {
      "cell_type": "code",
      "source": [
        "data_filtered.isnull().sum()"
      ],
      "metadata": {
        "colab": {
          "base_uri": "https://localhost:8080/",
          "height": 742
        },
        "id": "TPznWz7hKSEX",
        "outputId": "ad358ae9-8e61-4f12-d356-90ef0d89c321"
      },
      "execution_count": null,
      "outputs": [
        {
          "output_type": "execute_result",
          "data": {
            "text/plain": [
              "AttachedGarageYN              0\n",
              "BathroomsTotalInteger         0\n",
              "BedroomsTotal                 0\n",
              "City                         80\n",
              "ClosePrice                    0\n",
              "CountyOrParish                0\n",
              "FireplaceYN                   0\n",
              "GarageSpaces                  0\n",
              "Latitude                     25\n",
              "LivingArea                    0\n",
              "Longitude                    25\n",
              "LotSizeSquareFeet             0\n",
              "NewConstructionYN             0\n",
              "ParkingTotal                  0\n",
              "PoolPrivateYN                 0\n",
              "PostalCode                    0\n",
              "StateOrProvince               0\n",
              "Stories                       0\n",
              "ViewYN                        0\n",
              "ListingContractDate_month     0\n",
              "Age                          16\n",
              "dtype: int64"
            ],
            "text/html": [
              "<div>\n",
              "<style scoped>\n",
              "    .dataframe tbody tr th:only-of-type {\n",
              "        vertical-align: middle;\n",
              "    }\n",
              "\n",
              "    .dataframe tbody tr th {\n",
              "        vertical-align: top;\n",
              "    }\n",
              "\n",
              "    .dataframe thead th {\n",
              "        text-align: right;\n",
              "    }\n",
              "</style>\n",
              "<table border=\"1\" class=\"dataframe\">\n",
              "  <thead>\n",
              "    <tr style=\"text-align: right;\">\n",
              "      <th></th>\n",
              "      <th>0</th>\n",
              "    </tr>\n",
              "  </thead>\n",
              "  <tbody>\n",
              "    <tr>\n",
              "      <th>AttachedGarageYN</th>\n",
              "      <td>0</td>\n",
              "    </tr>\n",
              "    <tr>\n",
              "      <th>BathroomsTotalInteger</th>\n",
              "      <td>0</td>\n",
              "    </tr>\n",
              "    <tr>\n",
              "      <th>BedroomsTotal</th>\n",
              "      <td>0</td>\n",
              "    </tr>\n",
              "    <tr>\n",
              "      <th>City</th>\n",
              "      <td>80</td>\n",
              "    </tr>\n",
              "    <tr>\n",
              "      <th>ClosePrice</th>\n",
              "      <td>0</td>\n",
              "    </tr>\n",
              "    <tr>\n",
              "      <th>CountyOrParish</th>\n",
              "      <td>0</td>\n",
              "    </tr>\n",
              "    <tr>\n",
              "      <th>FireplaceYN</th>\n",
              "      <td>0</td>\n",
              "    </tr>\n",
              "    <tr>\n",
              "      <th>GarageSpaces</th>\n",
              "      <td>0</td>\n",
              "    </tr>\n",
              "    <tr>\n",
              "      <th>Latitude</th>\n",
              "      <td>25</td>\n",
              "    </tr>\n",
              "    <tr>\n",
              "      <th>LivingArea</th>\n",
              "      <td>0</td>\n",
              "    </tr>\n",
              "    <tr>\n",
              "      <th>Longitude</th>\n",
              "      <td>25</td>\n",
              "    </tr>\n",
              "    <tr>\n",
              "      <th>LotSizeSquareFeet</th>\n",
              "      <td>0</td>\n",
              "    </tr>\n",
              "    <tr>\n",
              "      <th>NewConstructionYN</th>\n",
              "      <td>0</td>\n",
              "    </tr>\n",
              "    <tr>\n",
              "      <th>ParkingTotal</th>\n",
              "      <td>0</td>\n",
              "    </tr>\n",
              "    <tr>\n",
              "      <th>PoolPrivateYN</th>\n",
              "      <td>0</td>\n",
              "    </tr>\n",
              "    <tr>\n",
              "      <th>PostalCode</th>\n",
              "      <td>0</td>\n",
              "    </tr>\n",
              "    <tr>\n",
              "      <th>StateOrProvince</th>\n",
              "      <td>0</td>\n",
              "    </tr>\n",
              "    <tr>\n",
              "      <th>Stories</th>\n",
              "      <td>0</td>\n",
              "    </tr>\n",
              "    <tr>\n",
              "      <th>ViewYN</th>\n",
              "      <td>0</td>\n",
              "    </tr>\n",
              "    <tr>\n",
              "      <th>ListingContractDate_month</th>\n",
              "      <td>0</td>\n",
              "    </tr>\n",
              "    <tr>\n",
              "      <th>Age</th>\n",
              "      <td>16</td>\n",
              "    </tr>\n",
              "  </tbody>\n",
              "</table>\n",
              "</div><br><label><b>dtype:</b> int64</label>"
            ]
          },
          "metadata": {},
          "execution_count": 16
        }
      ]
    },
    {
      "cell_type": "code",
      "source": [
        "data_filtered.shape"
      ],
      "metadata": {
        "colab": {
          "base_uri": "https://localhost:8080/"
        },
        "id": "LgutnKxBKSHU",
        "outputId": "ef5bb340-c194-42dc-eac4-28f75cbcecec"
      },
      "execution_count": null,
      "outputs": [
        {
          "output_type": "execute_result",
          "data": {
            "text/plain": [
              "(79663, 21)"
            ]
          },
          "metadata": {},
          "execution_count": 17
        }
      ]
    },
    {
      "cell_type": "code",
      "source": [
        "data_filtered.dropna(inplace=True)\n",
        "data_filtered.reset_index(drop=True, inplace=True)\n",
        "\n",
        "print('Percentage loss: ', (1 - (data_filtered.shape[0]) / 91072) * 100)"
      ],
      "metadata": {
        "colab": {
          "base_uri": "https://localhost:8080/"
        },
        "id": "8MjZ-H6jKSK0",
        "outputId": "bb285536-3048-4df7-c730-ab3010c5f4f8"
      },
      "execution_count": null,
      "outputs": [
        {
          "output_type": "stream",
          "name": "stdout",
          "text": [
            "Percentage loss:  12.659214687280397\n"
          ]
        }
      ]
    },
    {
      "cell_type": "markdown",
      "source": [
        "### Boolean Conversion\n",
        "\n",
        "**Action:**  \n",
        "Converted Y/N columns to binary (1/0):  \n",
        "`AttachedGarageYN`, `FireplaceYN`, `NewConstructionYN`, `PoolPrivateYN`, `ViewYN`\n",
        "\n",
        "**Purpose:**  \n",
        "Prepares categorical features for machine learning algorithms"
      ],
      "metadata": {
        "id": "D3Ds82O3Fi_D"
      }
    },
    {
      "cell_type": "code",
      "source": [
        "# List of boolean columns\n",
        "boolean_columns = ['AttachedGarageYN', 'FireplaceYN', 'NewConstructionYN', 'PoolPrivateYN', 'ViewYN']\n",
        "\n",
        "# Convert the boolean columns to 1 and 0\n",
        "data_filtered[boolean_columns] = data_filtered[boolean_columns].astype(int)"
      ],
      "metadata": {
        "id": "enJs0uAtKSOL"
      },
      "execution_count": null,
      "outputs": []
    },
    {
      "cell_type": "code",
      "source": [
        "data_filtered.info()"
      ],
      "metadata": {
        "colab": {
          "base_uri": "https://localhost:8080/"
        },
        "id": "16CdJWekKSRz",
        "outputId": "2cf76dd6-aaaf-4b12-a3f9-a8ce8d0dbae8"
      },
      "execution_count": null,
      "outputs": [
        {
          "output_type": "stream",
          "name": "stdout",
          "text": [
            "<class 'pandas.core.frame.DataFrame'>\n",
            "RangeIndex: 79543 entries, 0 to 79542\n",
            "Data columns (total 21 columns):\n",
            " #   Column                     Non-Null Count  Dtype  \n",
            "---  ------                     --------------  -----  \n",
            " 0   AttachedGarageYN           79543 non-null  int64  \n",
            " 1   BathroomsTotalInteger      79543 non-null  float64\n",
            " 2   BedroomsTotal              79543 non-null  float64\n",
            " 3   City                       79543 non-null  object \n",
            " 4   ClosePrice                 79543 non-null  float64\n",
            " 5   CountyOrParish             79543 non-null  object \n",
            " 6   FireplaceYN                79543 non-null  int64  \n",
            " 7   GarageSpaces               79543 non-null  float64\n",
            " 8   Latitude                   79543 non-null  float64\n",
            " 9   LivingArea                 79543 non-null  float64\n",
            " 10  Longitude                  79543 non-null  float64\n",
            " 11  LotSizeSquareFeet          79543 non-null  float64\n",
            " 12  NewConstructionYN          79543 non-null  int64  \n",
            " 13  ParkingTotal               79543 non-null  float64\n",
            " 14  PoolPrivateYN              79543 non-null  int64  \n",
            " 15  PostalCode                 79543 non-null  object \n",
            " 16  StateOrProvince            79543 non-null  object \n",
            " 17  Stories                    79543 non-null  float64\n",
            " 18  ViewYN                     79543 non-null  int64  \n",
            " 19  ListingContractDate_month  79543 non-null  int32  \n",
            " 20  Age                        79543 non-null  float64\n",
            "dtypes: float64(11), int32(1), int64(5), object(4)\n",
            "memory usage: 12.4+ MB\n"
          ]
        }
      ]
    },
    {
      "cell_type": "markdown",
      "source": [
        "### Data Type Conversion\n",
        "\n",
        "**Action:**  \n",
        "Converted columns to float64:  \n",
        "- Boolean flags (`YN` columns)  \n",
        "- Month from contract date  \n",
        "\n",
        "**Verification:**  \n",
        "Checked dtype conversion for all specified columns  \n",
        "\n",
        "**Purpose:**  \n",
        "Ensures numerical consistency for modeling"
      ],
      "metadata": {
        "id": "7orWqsI-FpUr"
      }
    },
    {
      "cell_type": "code",
      "source": [
        "columns_to_convert = [\n",
        "    \"AttachedGarageYN\", \"FireplaceYN\", \"NewConstructionYN\",\n",
        "    \"PoolPrivateYN\", \"ViewYN\", \"ListingContractDate_month\"\n",
        "]\n",
        "\n",
        "data_filtered[columns_to_convert] = data_filtered[columns_to_convert].astype('float64')\n",
        "\n",
        "# Verify conversion\n",
        "data_filtered.dtypes.loc[columns_to_convert]"
      ],
      "metadata": {
        "colab": {
          "base_uri": "https://localhost:8080/",
          "height": 272
        },
        "id": "RRICmz3-KSVW",
        "outputId": "46130d04-492f-4ee1-9b5c-a2676384e8ca"
      },
      "execution_count": null,
      "outputs": [
        {
          "output_type": "execute_result",
          "data": {
            "text/plain": [
              "AttachedGarageYN             float64\n",
              "FireplaceYN                  float64\n",
              "NewConstructionYN            float64\n",
              "PoolPrivateYN                float64\n",
              "ViewYN                       float64\n",
              "ListingContractDate_month    float64\n",
              "dtype: object"
            ],
            "text/html": [
              "<div>\n",
              "<style scoped>\n",
              "    .dataframe tbody tr th:only-of-type {\n",
              "        vertical-align: middle;\n",
              "    }\n",
              "\n",
              "    .dataframe tbody tr th {\n",
              "        vertical-align: top;\n",
              "    }\n",
              "\n",
              "    .dataframe thead th {\n",
              "        text-align: right;\n",
              "    }\n",
              "</style>\n",
              "<table border=\"1\" class=\"dataframe\">\n",
              "  <thead>\n",
              "    <tr style=\"text-align: right;\">\n",
              "      <th></th>\n",
              "      <th>0</th>\n",
              "    </tr>\n",
              "  </thead>\n",
              "  <tbody>\n",
              "    <tr>\n",
              "      <th>AttachedGarageYN</th>\n",
              "      <td>float64</td>\n",
              "    </tr>\n",
              "    <tr>\n",
              "      <th>FireplaceYN</th>\n",
              "      <td>float64</td>\n",
              "    </tr>\n",
              "    <tr>\n",
              "      <th>NewConstructionYN</th>\n",
              "      <td>float64</td>\n",
              "    </tr>\n",
              "    <tr>\n",
              "      <th>PoolPrivateYN</th>\n",
              "      <td>float64</td>\n",
              "    </tr>\n",
              "    <tr>\n",
              "      <th>ViewYN</th>\n",
              "      <td>float64</td>\n",
              "    </tr>\n",
              "    <tr>\n",
              "      <th>ListingContractDate_month</th>\n",
              "      <td>float64</td>\n",
              "    </tr>\n",
              "  </tbody>\n",
              "</table>\n",
              "</div><br><label><b>dtype:</b> object</label>"
            ]
          },
          "metadata": {},
          "execution_count": 21
        }
      ]
    },
    {
      "cell_type": "markdown",
      "source": [
        "### Log Transformation\n",
        "\n",
        "**Action:**  \n",
        "Applied log transform to `ClosePrice` to handle skewness  \n",
        "\n",
        "**Visualization:**  \n",
        "Generated histogram to verify normalized distribution  \n",
        "\n",
        "**Purpose:**  \n",
        "Improves model performance by:  \n",
        "- Reducing right-skew  \n",
        "- Normalizing price distribution  \n",
        "- Minimizing outlier impact"
      ],
      "metadata": {
        "id": "VBjJQyUzF0C4"
      }
    },
    {
      "cell_type": "code",
      "source": [
        "# Log Transformation method\n",
        "data_filtered[\"log_ClosePrice\"] = np.log(data_filtered[\"ClosePrice\"])"
      ],
      "metadata": {
        "id": "NwTPANRFKSYp"
      },
      "execution_count": null,
      "outputs": []
    },
    {
      "cell_type": "code",
      "source": [
        "plt.hist(data_filtered['log_ClosePrice'], bins=50, edgecolor='black')\n",
        "plt.xlabel('log_ClosePrice')\n",
        "plt.ylabel('Frequency')\n",
        "plt.title('Distribution of log_ClosePrice')\n",
        "plt.show()"
      ],
      "metadata": {
        "colab": {
          "base_uri": "https://localhost:8080/",
          "height": 472
        },
        "id": "OIqmywaPKIIo",
        "outputId": "b859f9db-6abe-40c6-a973-9061e2c148a3"
      },
      "execution_count": null,
      "outputs": [
        {
          "output_type": "display_data",
          "data": {
            "text/plain": [
              "<Figure size 640x480 with 1 Axes>"
            ],
            "image/png": "[encoded data removed]"
          },
          "metadata": {}
        }
      ]
    },
    {
      "cell_type": "markdown",
      "source": [
        "### Square Root Transformation\n",
        "\n",
        "**Action:**  \n",
        "Applied √ transform to `ClosePrice` as alternative normalization  \n",
        "\n",
        "**Output:**  \n",
        "Histogram shows transformed distribution  \n",
        "\n",
        "**Purpose:**  \n",
        "- Reduces right-skew (less aggressive than log)  \n",
        "- Preserves original units better than log  \n",
        "- Maintains interpretability  "
      ],
      "metadata": {
        "id": "u8VMcMcCF7T2"
      }
    },
    {
      "cell_type": "code",
      "source": [
        "# Square Root Transformation method\n",
        "data_filtered['ClosePrice_sqrt'] = np.sqrt(data_filtered['ClosePrice'])"
      ],
      "metadata": {
        "id": "3CCsCAuHLfWc"
      },
      "execution_count": null,
      "outputs": []
    },
    {
      "cell_type": "code",
      "source": [
        "plt.hist(data_filtered['ClosePrice_sqrt'], bins=50, edgecolor='black')\n",
        "plt.xlabel('ClosePrice_sqrt')\n",
        "plt.ylabel('Frequency')\n",
        "plt.title('Distribution of ClosePrice_sqrt')\n",
        "plt.show()"
      ],
      "metadata": {
        "colab": {
          "base_uri": "https://localhost:8080/",
          "height": 472
        },
        "id": "mLoF04SiLfsi",
        "outputId": "809461b0-40a7-4797-94e0-1a156840e1f2"
      },
      "execution_count": null,
      "outputs": [
        {
          "output_type": "display_data",
          "data": {
            "text/plain": [
              "<Figure size 640x480 with 1 Axes>"
            ],
            "image/png": "[encoded data removed]"
          },
          "metadata": {}
        }
      ]
    },
    {
      "cell_type": "markdown",
      "source": [
        "### Final Processing\n",
        "\n",
        "**Columns Removed:**\n",
        "- Geographic identifiers (`City`, `CountyOrParish`, `PostalCode`, `StateOrProvince`)  \n",
        "- Raw & transformed prices (`ClosePrice`, `ClosePrice_sqrt`)  \n",
        "\n",
        "**Output:**  \n",
        "Saved cleaned dataset as CSV with:  \n",
        "- Only modeling-ready features  \n",
        "- Log-transformed target (`log_ClosePrice`)  \n",
        "- No index column"
      ],
      "metadata": {
        "id": "DeLY-gOTGEBy"
      }
    },
    {
      "cell_type": "code",
      "source": [
        "data_filtered.drop(columns=[\"City\", \"CountyOrParish\", \"PostalCode\", \"StateOrProvince\", \"ClosePrice\", \"ClosePrice_sqrt\"], inplace=True)"
      ],
      "metadata": {
        "id": "2WSxStR7KILw"
      },
      "execution_count": null,
      "outputs": []
    },
    {
      "cell_type": "code",
      "source": [
        "data_filtered.info()"
      ],
      "metadata": {
        "colab": {
          "base_uri": "https://localhost:8080/"
        },
        "id": "YVV4IBwSKIO5",
        "outputId": "6bdbfcc2-629e-4b36-9484-6caad2639dcf"
      },
      "execution_count": null,
      "outputs": [
        {
          "output_type": "stream",
          "name": "stdout",
          "text": [
            "<class 'pandas.core.frame.DataFrame'>\n",
            "RangeIndex: 79543 entries, 0 to 79542\n",
            "Data columns (total 17 columns):\n",
            " #   Column                     Non-Null Count  Dtype  \n",
            "---  ------                     --------------  -----  \n",
            " 0   AttachedGarageYN           79543 non-null  float64\n",
            " 1   BathroomsTotalInteger      79543 non-null  float64\n",
            " 2   BedroomsTotal              79543 non-null  float64\n",
            " 3   FireplaceYN                79543 non-null  float64\n",
            " 4   GarageSpaces               79543 non-null  float64\n",
            " 5   Latitude                   79543 non-null  float64\n",
            " 6   LivingArea                 79543 non-null  float64\n",
            " 7   Longitude                  79543 non-null  float64\n",
            " 8   LotSizeSquareFeet          79543 non-null  float64\n",
            " 9   NewConstructionYN          79543 non-null  float64\n",
            " 10  ParkingTotal               79543 non-null  float64\n",
            " 11  PoolPrivateYN              79543 non-null  float64\n",
            " 12  Stories                    79543 non-null  float64\n",
            " 13  ViewYN                     79543 non-null  float64\n",
            " 14  ListingContractDate_month  79543 non-null  float64\n",
            " 15  Age                        79543 non-null  float64\n",
            " 16  log_ClosePrice             79543 non-null  float64\n",
            "dtypes: float64(17)\n",
            "memory usage: 10.3 MB\n"
          ]
        }
      ]
    },
    {
      "cell_type": "code",
      "source": [
        "save_path = '/content/drive/MyDrive/Data testing with IDXExchange/data_filtered-6nd-log_ClosePrice.csv'\n",
        "data_filtered.to_csv(save_path, index=False)"
      ],
      "metadata": {
        "id": "zQiwjAqEL2Le"
      },
      "execution_count": null,
      "outputs": []
    },
    {
      "cell_type": "code",
      "source": [],
      "metadata": {
        "id": "BGskkLJoL2PJ"
      },
      "execution_count": null,
      "outputs": []
    }
  ]
}